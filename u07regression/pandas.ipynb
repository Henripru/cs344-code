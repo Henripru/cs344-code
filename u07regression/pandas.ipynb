{
  "cells": [
    {
      "cell_type": "markdown",
      "metadata": {
        "collapsed": true,
        "pycharm": {}
      },
      "source": [
        "# Pandas\n",
        "\n",
        "Pandas is a Python-based, open-source toolkit for high-performance data analysis and manipulation. "
      ]
    },
    {
      "cell_type": "code",
      "execution_count": 7,
      "metadata": {
        "pycharm": {
          "is_executing": false
        }
      },
      "outputs": [],
      "source": [
        "import numpy as np\n",
        "import pandas as pd"
      ]
    },
    {
      "cell_type": "markdown",
      "metadata": {
        "pycharm": {}
      },
      "source": [
        "We load the Boston Housing data into a Pandas DataFrame."
      ]
    },
    {
      "cell_type": "code",
      "execution_count": 9,
      "metadata": {
        "pycharm": {
          "is_executing": false
        }
      },
      "outputs": [
        {
          "data": {
            "text/plain": "      crim    zn  indus  chas    nox     rm   age     dis  rad  tax  ptratio  \\\n0  0.00632  18.0   2.31     0  0.538  6.575  65.2  4.0900    1  296     15.3   \n1  0.02731   0.0   7.07     0  0.469  6.421  78.9  4.9671    2  242     17.8   \n2  0.02729   0.0   7.07     0  0.469  7.185  61.1  4.9671    2  242     17.8   \n3  0.03237   0.0   2.18     0  0.458  6.998  45.8  6.0622    3  222     18.7   \n4  0.06905   0.0   2.18     0  0.458  7.147  54.2  6.0622    3  222     18.7   \n\n        b  lstat  medv  \n0  396.90   4.98  24.0  \n1  396.90   9.14  21.6  \n2  392.83   4.03  34.7  \n3  394.63   2.94  33.4  \n4  396.90   5.33  36.2  ",
            "text/html": "\u003cdiv\u003e\n\u003cstyle scoped\u003e\n    .dataframe tbody tr th:only-of-type {\n        vertical-align: middle;\n    }\n\n    .dataframe tbody tr th {\n        vertical-align: top;\n    }\n\n    .dataframe thead th {\n        text-align: right;\n    }\n\u003c/style\u003e\n\u003ctable border\u003d\"1\" class\u003d\"dataframe\"\u003e\n  \u003cthead\u003e\n    \u003ctr style\u003d\"text-align: right;\"\u003e\n      \u003cth\u003e\u003c/th\u003e\n      \u003cth\u003ecrim\u003c/th\u003e\n      \u003cth\u003ezn\u003c/th\u003e\n      \u003cth\u003eindus\u003c/th\u003e\n      \u003cth\u003echas\u003c/th\u003e\n      \u003cth\u003enox\u003c/th\u003e\n      \u003cth\u003erm\u003c/th\u003e\n      \u003cth\u003eage\u003c/th\u003e\n      \u003cth\u003edis\u003c/th\u003e\n      \u003cth\u003erad\u003c/th\u003e\n      \u003cth\u003etax\u003c/th\u003e\n      \u003cth\u003eptratio\u003c/th\u003e\n      \u003cth\u003eb\u003c/th\u003e\n      \u003cth\u003elstat\u003c/th\u003e\n      \u003cth\u003emedv\u003c/th\u003e\n    \u003c/tr\u003e\n  \u003c/thead\u003e\n  \u003ctbody\u003e\n    \u003ctr\u003e\n      \u003cth\u003e0\u003c/th\u003e\n      \u003ctd\u003e0.00632\u003c/td\u003e\n      \u003ctd\u003e18.0\u003c/td\u003e\n      \u003ctd\u003e2.31\u003c/td\u003e\n      \u003ctd\u003e0\u003c/td\u003e\n      \u003ctd\u003e0.538\u003c/td\u003e\n      \u003ctd\u003e6.575\u003c/td\u003e\n      \u003ctd\u003e65.2\u003c/td\u003e\n      \u003ctd\u003e4.0900\u003c/td\u003e\n      \u003ctd\u003e1\u003c/td\u003e\n      \u003ctd\u003e296\u003c/td\u003e\n      \u003ctd\u003e15.3\u003c/td\u003e\n      \u003ctd\u003e396.90\u003c/td\u003e\n      \u003ctd\u003e4.98\u003c/td\u003e\n      \u003ctd\u003e24.0\u003c/td\u003e\n    \u003c/tr\u003e\n    \u003ctr\u003e\n      \u003cth\u003e1\u003c/th\u003e\n      \u003ctd\u003e0.02731\u003c/td\u003e\n      \u003ctd\u003e0.0\u003c/td\u003e\n      \u003ctd\u003e7.07\u003c/td\u003e\n      \u003ctd\u003e0\u003c/td\u003e\n      \u003ctd\u003e0.469\u003c/td\u003e\n      \u003ctd\u003e6.421\u003c/td\u003e\n      \u003ctd\u003e78.9\u003c/td\u003e\n      \u003ctd\u003e4.9671\u003c/td\u003e\n      \u003ctd\u003e2\u003c/td\u003e\n      \u003ctd\u003e242\u003c/td\u003e\n      \u003ctd\u003e17.8\u003c/td\u003e\n      \u003ctd\u003e396.90\u003c/td\u003e\n      \u003ctd\u003e9.14\u003c/td\u003e\n      \u003ctd\u003e21.6\u003c/td\u003e\n    \u003c/tr\u003e\n    \u003ctr\u003e\n      \u003cth\u003e2\u003c/th\u003e\n      \u003ctd\u003e0.02729\u003c/td\u003e\n      \u003ctd\u003e0.0\u003c/td\u003e\n      \u003ctd\u003e7.07\u003c/td\u003e\n      \u003ctd\u003e0\u003c/td\u003e\n      \u003ctd\u003e0.469\u003c/td\u003e\n      \u003ctd\u003e7.185\u003c/td\u003e\n      \u003ctd\u003e61.1\u003c/td\u003e\n      \u003ctd\u003e4.9671\u003c/td\u003e\n      \u003ctd\u003e2\u003c/td\u003e\n      \u003ctd\u003e242\u003c/td\u003e\n      \u003ctd\u003e17.8\u003c/td\u003e\n      \u003ctd\u003e392.83\u003c/td\u003e\n      \u003ctd\u003e4.03\u003c/td\u003e\n      \u003ctd\u003e34.7\u003c/td\u003e\n    \u003c/tr\u003e\n    \u003ctr\u003e\n      \u003cth\u003e3\u003c/th\u003e\n      \u003ctd\u003e0.03237\u003c/td\u003e\n      \u003ctd\u003e0.0\u003c/td\u003e\n      \u003ctd\u003e2.18\u003c/td\u003e\n      \u003ctd\u003e0\u003c/td\u003e\n      \u003ctd\u003e0.458\u003c/td\u003e\n      \u003ctd\u003e6.998\u003c/td\u003e\n      \u003ctd\u003e45.8\u003c/td\u003e\n      \u003ctd\u003e6.0622\u003c/td\u003e\n      \u003ctd\u003e3\u003c/td\u003e\n      \u003ctd\u003e222\u003c/td\u003e\n      \u003ctd\u003e18.7\u003c/td\u003e\n      \u003ctd\u003e394.63\u003c/td\u003e\n      \u003ctd\u003e2.94\u003c/td\u003e\n      \u003ctd\u003e33.4\u003c/td\u003e\n    \u003c/tr\u003e\n    \u003ctr\u003e\n      \u003cth\u003e4\u003c/th\u003e\n      \u003ctd\u003e0.06905\u003c/td\u003e\n      \u003ctd\u003e0.0\u003c/td\u003e\n      \u003ctd\u003e2.18\u003c/td\u003e\n      \u003ctd\u003e0\u003c/td\u003e\n      \u003ctd\u003e0.458\u003c/td\u003e\n      \u003ctd\u003e7.147\u003c/td\u003e\n      \u003ctd\u003e54.2\u003c/td\u003e\n      \u003ctd\u003e6.0622\u003c/td\u003e\n      \u003ctd\u003e3\u003c/td\u003e\n      \u003ctd\u003e222\u003c/td\u003e\n      \u003ctd\u003e18.7\u003c/td\u003e\n      \u003ctd\u003e396.90\u003c/td\u003e\n      \u003ctd\u003e5.33\u003c/td\u003e\n      \u003ctd\u003e36.2\u003c/td\u003e\n    \u003c/tr\u003e\n  \u003c/tbody\u003e\n\u003c/table\u003e\n\u003c/div\u003e"
          },
          "metadata": {},
          "output_type": "execute_result",
          "execution_count": 9
        }
      ],
      "source": "boston_df \u003d pd.read_csv(\"https://raw.githubusercontent.com/selva86/datasets/master/BostonHousing.csv\")\nboston_df.head()"
    },
    {
      "cell_type": "code",
      "execution_count": 10,
      "metadata": {
        "scrolled": true,
        "pycharm": {
          "is_executing": false
        }
      },
      "outputs": [
        {
          "data": {
            "text/plain": "crim       float64\nzn         float64\nindus      float64\nchas         int64\nnox        float64\nrm         float64\nage        float64\ndis        float64\nrad          int64\ntax          int64\nptratio    float64\nb          float64\nlstat      float64\nmedv       float64\ndtype: object"
          },
          "metadata": {},
          "output_type": "execute_result",
          "execution_count": 10
        }
      ],
      "source": [
        "boston_df.dtypes"
      ]
    },
    {
      "cell_type": "markdown",
      "metadata": {
        "pycharm": {}
      },
      "source": [
        "## Basic SQL Commands\n",
        "\n",
        "We now run some standard SQL-like queries on the data (cf. \n",
        "    [Comparison with SQL](http://pandas.pydata.org/pandas-docs/stable/getting_started/comparison/comparison_with_sql.html)).\n",
        "\n",
        "```\n",
        "SELECT crime_rate \n",
        "FROM Boston_df\n",
        "SORT BY crim\n",
        "LIMIT 10;\n",
        "```"
      ]
    },
    {
      "cell_type": "code",
      "execution_count": 12,
      "metadata": {
        "pycharm": {}
      },
      "outputs": [
        {
          "data": {
            "text/html": [
              "\u003cdiv\u003e\n",
              "\u003cstyle scoped\u003e\n",
              "    .dataframe tbody tr th:only-of-type {\n",
              "        vertical-align: middle;\n",
              "    }\n",
              "\n",
              "    .dataframe tbody tr th {\n",
              "        vertical-align: top;\n",
              "    }\n",
              "\n",
              "    .dataframe thead th {\n",
              "        text-align: right;\n",
              "    }\n",
              "\u003c/style\u003e\n",
              "\u003ctable border\u003d\"1\" class\u003d\"dataframe\"\u003e\n",
              "  \u003cthead\u003e\n",
              "    \u003ctr style\u003d\"text-align: right;\"\u003e\n",
              "      \u003cth\u003e\u003c/th\u003e\n",
              "      \u003cth\u003ecrim\u003c/th\u003e\n",
              "      \u003cth\u003erm\u003c/th\u003e\n",
              "    \u003c/tr\u003e\n",
              "  \u003c/thead\u003e\n",
              "  \u003ctbody\u003e\n",
              "    \u003ctr\u003e\n",
              "      \u003cth\u003e0\u003c/th\u003e\n",
              "      \u003ctd\u003e0.00632\u003c/td\u003e\n",
              "      \u003ctd\u003e6.575\u003c/td\u003e\n",
              "    \u003c/tr\u003e\n",
              "    \u003ctr\u003e\n",
              "      \u003cth\u003e284\u003c/th\u003e\n",
              "      \u003ctd\u003e0.00906\u003c/td\u003e\n",
              "      \u003ctd\u003e7.088\u003c/td\u003e\n",
              "    \u003c/tr\u003e\n",
              "    \u003ctr\u003e\n",
              "      \u003cth\u003e285\u003c/th\u003e\n",
              "      \u003ctd\u003e0.01096\u003c/td\u003e\n",
              "      \u003ctd\u003e6.453\u003c/td\u003e\n",
              "    \u003c/tr\u003e\n",
              "    \u003ctr\u003e\n",
              "      \u003cth\u003e341\u003c/th\u003e\n",
              "      \u003ctd\u003e0.01301\u003c/td\u003e\n",
              "      \u003ctd\u003e7.241\u003c/td\u003e\n",
              "    \u003c/tr\u003e\n",
              "    \u003ctr\u003e\n",
              "      \u003cth\u003e55\u003c/th\u003e\n",
              "      \u003ctd\u003e0.01311\u003c/td\u003e\n",
              "      \u003ctd\u003e7.249\u003c/td\u003e\n",
              "    \u003c/tr\u003e\n",
              "    \u003ctr\u003e\n",
              "      \u003cth\u003e54\u003c/th\u003e\n",
              "      \u003ctd\u003e0.01360\u003c/td\u003e\n",
              "      \u003ctd\u003e5.888\u003c/td\u003e\n",
              "    \u003c/tr\u003e\n",
              "    \u003ctr\u003e\n",
              "      \u003cth\u003e195\u003c/th\u003e\n",
              "      \u003ctd\u003e0.01381\u003c/td\u003e\n",
              "      \u003ctd\u003e7.875\u003c/td\u003e\n",
              "    \u003c/tr\u003e\n",
              "    \u003ctr\u003e\n",
              "      \u003cth\u003e57\u003c/th\u003e\n",
              "      \u003ctd\u003e0.01432\u003c/td\u003e\n",
              "      \u003ctd\u003e6.816\u003c/td\u003e\n",
              "    \u003c/tr\u003e\n",
              "    \u003ctr\u003e\n",
              "      \u003cth\u003e194\u003c/th\u003e\n",
              "      \u003ctd\u003e0.01439\u003c/td\u003e\n",
              "      \u003ctd\u003e6.604\u003c/td\u003e\n",
              "    \u003c/tr\u003e\n",
              "    \u003ctr\u003e\n",
              "      \u003cth\u003e348\u003c/th\u003e\n",
              "      \u003ctd\u003e0.01501\u003c/td\u003e\n",
              "      \u003ctd\u003e6.635\u003c/td\u003e\n",
              "    \u003c/tr\u003e\n",
              "  \u003c/tbody\u003e\n",
              "\u003c/table\u003e\n",
              "\u003c/div\u003e"
            ],
            "text/plain": [
              "        crim     rm\n",
              "0    0.00632  6.575\n",
              "284  0.00906  7.088\n",
              "285  0.01096  6.453\n",
              "341  0.01301  7.241\n",
              "55   0.01311  7.249\n",
              "54   0.01360  5.888\n",
              "195  0.01381  7.875\n",
              "57   0.01432  6.816\n",
              "194  0.01439  6.604\n",
              "348  0.01501  6.635"
            ]
          },
          "execution_count": 12,
          "metadata": {},
          "output_type": "execute_result"
        }
      ],
      "source": [
        "boston_df[[\u0027crim\u0027, \u0027rm\u0027]].sort_values(by\u003d\u0027crim\u0027).head(10)"
      ]
    },
    {
      "cell_type": "markdown",
      "metadata": {
        "pycharm": {}
      },
      "source": [
        "```\n",
        "SELECT * \n",
        "FROM Boston_df\n",
        "WHERE crim \u003c 0.01;\n",
        "```"
      ]
    },
    {
      "cell_type": "code",
      "execution_count": 15,
      "metadata": {
        "pycharm": {}
      },
      "outputs": [
        {
          "data": {
            "text/html": [
              "\u003cdiv\u003e\n",
              "\u003cstyle scoped\u003e\n",
              "    .dataframe tbody tr th:only-of-type {\n",
              "        vertical-align: middle;\n",
              "    }\n",
              "\n",
              "    .dataframe tbody tr th {\n",
              "        vertical-align: top;\n",
              "    }\n",
              "\n",
              "    .dataframe thead th {\n",
              "        text-align: right;\n",
              "    }\n",
              "\u003c/style\u003e\n",
              "\u003ctable border\u003d\"1\" class\u003d\"dataframe\"\u003e\n",
              "  \u003cthead\u003e\n",
              "    \u003ctr style\u003d\"text-align: right;\"\u003e\n",
              "      \u003cth\u003e\u003c/th\u003e\n",
              "      \u003cth\u003ecrim\u003c/th\u003e\n",
              "      \u003cth\u003ezn\u003c/th\u003e\n",
              "      \u003cth\u003eindus\u003c/th\u003e\n",
              "      \u003cth\u003echas\u003c/th\u003e\n",
              "      \u003cth\u003enox\u003c/th\u003e\n",
              "      \u003cth\u003erm\u003c/th\u003e\n",
              "      \u003cth\u003eage\u003c/th\u003e\n",
              "      \u003cth\u003edis\u003c/th\u003e\n",
              "      \u003cth\u003erad\u003c/th\u003e\n",
              "      \u003cth\u003etax\u003c/th\u003e\n",
              "      \u003cth\u003eptratio\u003c/th\u003e\n",
              "      \u003cth\u003eb\u003c/th\u003e\n",
              "      \u003cth\u003elstat\u003c/th\u003e\n",
              "      \u003cth\u003emedv\u003c/th\u003e\n",
              "    \u003c/tr\u003e\n",
              "  \u003c/thead\u003e\n",
              "  \u003ctbody\u003e\n",
              "    \u003ctr\u003e\n",
              "      \u003cth\u003e0\u003c/th\u003e\n",
              "      \u003ctd\u003e0.00632\u003c/td\u003e\n",
              "      \u003ctd\u003e18.0\u003c/td\u003e\n",
              "      \u003ctd\u003e2.31\u003c/td\u003e\n",
              "      \u003ctd\u003e0\u003c/td\u003e\n",
              "      \u003ctd\u003e0.538\u003c/td\u003e\n",
              "      \u003ctd\u003e6.575\u003c/td\u003e\n",
              "      \u003ctd\u003e65.2\u003c/td\u003e\n",
              "      \u003ctd\u003e4.0900\u003c/td\u003e\n",
              "      \u003ctd\u003e1\u003c/td\u003e\n",
              "      \u003ctd\u003e296\u003c/td\u003e\n",
              "      \u003ctd\u003e15.3\u003c/td\u003e\n",
              "      \u003ctd\u003e396.90\u003c/td\u003e\n",
              "      \u003ctd\u003e4.98\u003c/td\u003e\n",
              "      \u003ctd\u003e24.0\u003c/td\u003e\n",
              "    \u003c/tr\u003e\n",
              "    \u003ctr\u003e\n",
              "      \u003cth\u003e194\u003c/th\u003e\n",
              "      \u003ctd\u003e0.01439\u003c/td\u003e\n",
              "      \u003ctd\u003e60.0\u003c/td\u003e\n",
              "      \u003ctd\u003e2.93\u003c/td\u003e\n",
              "      \u003ctd\u003e0\u003c/td\u003e\n",
              "      \u003ctd\u003e0.401\u003c/td\u003e\n",
              "      \u003ctd\u003e6.604\u003c/td\u003e\n",
              "      \u003ctd\u003e18.8\u003c/td\u003e\n",
              "      \u003ctd\u003e6.2196\u003c/td\u003e\n",
              "      \u003ctd\u003e1\u003c/td\u003e\n",
              "      \u003ctd\u003e265\u003c/td\u003e\n",
              "      \u003ctd\u003e15.6\u003c/td\u003e\n",
              "      \u003ctd\u003e376.70\u003c/td\u003e\n",
              "      \u003ctd\u003e4.38\u003c/td\u003e\n",
              "      \u003ctd\u003e29.1\u003c/td\u003e\n",
              "    \u003c/tr\u003e\n",
              "    \u003ctr\u003e\n",
              "      \u003cth\u003e284\u003c/th\u003e\n",
              "      \u003ctd\u003e0.00906\u003c/td\u003e\n",
              "      \u003ctd\u003e90.0\u003c/td\u003e\n",
              "      \u003ctd\u003e2.97\u003c/td\u003e\n",
              "      \u003ctd\u003e0\u003c/td\u003e\n",
              "      \u003ctd\u003e0.400\u003c/td\u003e\n",
              "      \u003ctd\u003e7.088\u003c/td\u003e\n",
              "      \u003ctd\u003e20.8\u003c/td\u003e\n",
              "      \u003ctd\u003e7.3073\u003c/td\u003e\n",
              "      \u003ctd\u003e1\u003c/td\u003e\n",
              "      \u003ctd\u003e285\u003c/td\u003e\n",
              "      \u003ctd\u003e15.3\u003c/td\u003e\n",
              "      \u003ctd\u003e394.72\u003c/td\u003e\n",
              "      \u003ctd\u003e7.85\u003c/td\u003e\n",
              "      \u003ctd\u003e32.2\u003c/td\u003e\n",
              "    \u003c/tr\u003e\n",
              "    \u003ctr\u003e\n",
              "      \u003cth\u003e285\u003c/th\u003e\n",
              "      \u003ctd\u003e0.01096\u003c/td\u003e\n",
              "      \u003ctd\u003e55.0\u003c/td\u003e\n",
              "      \u003ctd\u003e2.25\u003c/td\u003e\n",
              "      \u003ctd\u003e0\u003c/td\u003e\n",
              "      \u003ctd\u003e0.389\u003c/td\u003e\n",
              "      \u003ctd\u003e6.453\u003c/td\u003e\n",
              "      \u003ctd\u003e31.9\u003c/td\u003e\n",
              "      \u003ctd\u003e7.3073\u003c/td\u003e\n",
              "      \u003ctd\u003e1\u003c/td\u003e\n",
              "      \u003ctd\u003e300\u003c/td\u003e\n",
              "      \u003ctd\u003e15.3\u003c/td\u003e\n",
              "      \u003ctd\u003e394.72\u003c/td\u003e\n",
              "      \u003ctd\u003e8.23\u003c/td\u003e\n",
              "      \u003ctd\u003e22.0\u003c/td\u003e\n",
              "    \u003c/tr\u003e\n",
              "    \u003ctr\u003e\n",
              "      \u003cth\u003e341\u003c/th\u003e\n",
              "      \u003ctd\u003e0.01301\u003c/td\u003e\n",
              "      \u003ctd\u003e35.0\u003c/td\u003e\n",
              "      \u003ctd\u003e1.52\u003c/td\u003e\n",
              "      \u003ctd\u003e0\u003c/td\u003e\n",
              "      \u003ctd\u003e0.442\u003c/td\u003e\n",
              "      \u003ctd\u003e7.241\u003c/td\u003e\n",
              "      \u003ctd\u003e49.3\u003c/td\u003e\n",
              "      \u003ctd\u003e7.0379\u003c/td\u003e\n",
              "      \u003ctd\u003e1\u003c/td\u003e\n",
              "      \u003ctd\u003e284\u003c/td\u003e\n",
              "      \u003ctd\u003e15.5\u003c/td\u003e\n",
              "      \u003ctd\u003e394.74\u003c/td\u003e\n",
              "      \u003ctd\u003e5.49\u003c/td\u003e\n",
              "      \u003ctd\u003e32.7\u003c/td\u003e\n",
              "    \u003c/tr\u003e\n",
              "  \u003c/tbody\u003e\n",
              "\u003c/table\u003e\n",
              "\u003c/div\u003e"
            ],
            "text/plain": [
              "        crim    zn  indus  chas    nox     rm   age     dis  rad  tax  \\\n",
              "0    0.00632  18.0   2.31     0  0.538  6.575  65.2  4.0900    1  296   \n",
              "194  0.01439  60.0   2.93     0  0.401  6.604  18.8  6.2196    1  265   \n",
              "284  0.00906  90.0   2.97     0  0.400  7.088  20.8  7.3073    1  285   \n",
              "285  0.01096  55.0   2.25     0  0.389  6.453  31.9  7.3073    1  300   \n",
              "341  0.01301  35.0   1.52     0  0.442  7.241  49.3  7.0379    1  284   \n",
              "\n",
              "     ptratio       b  lstat  medv  \n",
              "0       15.3  396.90   4.98  24.0  \n",
              "194     15.6  376.70   4.38  29.1  \n",
              "284     15.3  394.72   7.85  32.2  \n",
              "285     15.3  394.72   8.23  22.0  \n",
              "341     15.5  394.74   5.49  32.7  "
            ]
          },
          "execution_count": 15,
          "metadata": {},
          "output_type": "execute_result"
        }
      ],
      "source": [
        "boston_df[(boston_df.crim \u003c 0.015) \u0026 (boston_df.rad \u003d\u003d 1)]"
      ]
    },
    {
      "cell_type": "markdown",
      "metadata": {
        "pycharm": {}
      },
      "source": [
        "## Apply\n",
        "\n",
        "Find the mean of all columns."
      ]
    },
    {
      "cell_type": "code",
      "execution_count": 20,
      "metadata": {
        "pycharm": {}
      },
      "outputs": [
        {
          "data": {
            "text/plain": [
              "crim         3.613524\n",
              "zn          11.363636\n",
              "indus       11.136779\n",
              "chas         0.069170\n",
              "nox          0.554695\n",
              "rm           6.284634\n",
              "age         68.574901\n",
              "dis          3.795043\n",
              "rad          9.549407\n",
              "tax        408.237154\n",
              "ptratio     18.455534\n",
              "b          356.674032\n",
              "lstat       12.653063\n",
              "medv        22.532806\n",
              "dtype: float64"
            ]
          },
          "execution_count": 20,
          "metadata": {},
          "output_type": "execute_result"
        }
      ],
      "source": [
        "boston_df.mean()"
      ]
    },
    {
      "cell_type": "markdown",
      "metadata": {
        "pycharm": {}
      },
      "source": [
        "Add a new column that has double the value of the crime-rate column."
      ]
    },
    {
      "cell_type": "code",
      "execution_count": 28,
      "metadata": {
        "pycharm": {}
      },
      "outputs": [
        {
          "data": {
            "text/html": [
              "\u003cdiv\u003e\n",
              "\u003cstyle scoped\u003e\n",
              "    .dataframe tbody tr th:only-of-type {\n",
              "        vertical-align: middle;\n",
              "    }\n",
              "\n",
              "    .dataframe tbody tr th {\n",
              "        vertical-align: top;\n",
              "    }\n",
              "\n",
              "    .dataframe thead th {\n",
              "        text-align: right;\n",
              "    }\n",
              "\u003c/style\u003e\n",
              "\u003ctable border\u003d\"1\" class\u003d\"dataframe\"\u003e\n",
              "  \u003cthead\u003e\n",
              "    \u003ctr style\u003d\"text-align: right;\"\u003e\n",
              "      \u003cth\u003e\u003c/th\u003e\n",
              "      \u003cth\u003ecrim\u003c/th\u003e\n",
              "      \u003cth\u003edouble_crim\u003c/th\u003e\n",
              "    \u003c/tr\u003e\n",
              "  \u003c/thead\u003e\n",
              "  \u003ctbody\u003e\n",
              "    \u003ctr\u003e\n",
              "      \u003cth\u003e0\u003c/th\u003e\n",
              "      \u003ctd\u003e0.00632\u003c/td\u003e\n",
              "      \u003ctd\u003e0.01264\u003c/td\u003e\n",
              "    \u003c/tr\u003e\n",
              "    \u003ctr\u003e\n",
              "      \u003cth\u003e1\u003c/th\u003e\n",
              "      \u003ctd\u003e0.02731\u003c/td\u003e\n",
              "      \u003ctd\u003e0.05462\u003c/td\u003e\n",
              "    \u003c/tr\u003e\n",
              "    \u003ctr\u003e\n",
              "      \u003cth\u003e2\u003c/th\u003e\n",
              "      \u003ctd\u003e0.02729\u003c/td\u003e\n",
              "      \u003ctd\u003e0.05458\u003c/td\u003e\n",
              "    \u003c/tr\u003e\n",
              "    \u003ctr\u003e\n",
              "      \u003cth\u003e3\u003c/th\u003e\n",
              "      \u003ctd\u003e0.03237\u003c/td\u003e\n",
              "      \u003ctd\u003e0.06474\u003c/td\u003e\n",
              "    \u003c/tr\u003e\n",
              "    \u003ctr\u003e\n",
              "      \u003cth\u003e4\u003c/th\u003e\n",
              "      \u003ctd\u003e0.06905\u003c/td\u003e\n",
              "      \u003ctd\u003e0.13810\u003c/td\u003e\n",
              "    \u003c/tr\u003e\n",
              "    \u003ctr\u003e\n",
              "      \u003cth\u003e5\u003c/th\u003e\n",
              "      \u003ctd\u003e0.02985\u003c/td\u003e\n",
              "      \u003ctd\u003e0.05970\u003c/td\u003e\n",
              "    \u003c/tr\u003e\n",
              "    \u003ctr\u003e\n",
              "      \u003cth\u003e6\u003c/th\u003e\n",
              "      \u003ctd\u003e0.08829\u003c/td\u003e\n",
              "      \u003ctd\u003e0.17658\u003c/td\u003e\n",
              "    \u003c/tr\u003e\n",
              "    \u003ctr\u003e\n",
              "      \u003cth\u003e7\u003c/th\u003e\n",
              "      \u003ctd\u003e0.14455\u003c/td\u003e\n",
              "      \u003ctd\u003e0.28910\u003c/td\u003e\n",
              "    \u003c/tr\u003e\n",
              "    \u003ctr\u003e\n",
              "      \u003cth\u003e8\u003c/th\u003e\n",
              "      \u003ctd\u003e0.21124\u003c/td\u003e\n",
              "      \u003ctd\u003e0.42248\u003c/td\u003e\n",
              "    \u003c/tr\u003e\n",
              "    \u003ctr\u003e\n",
              "      \u003cth\u003e9\u003c/th\u003e\n",
              "      \u003ctd\u003e0.17004\u003c/td\u003e\n",
              "      \u003ctd\u003e0.34008\u003c/td\u003e\n",
              "    \u003c/tr\u003e\n",
              "  \u003c/tbody\u003e\n",
              "\u003c/table\u003e\n",
              "\u003c/div\u003e"
            ],
            "text/plain": [
              "      crim  double_crim\n",
              "0  0.00632      0.01264\n",
              "1  0.02731      0.05462\n",
              "2  0.02729      0.05458\n",
              "3  0.03237      0.06474\n",
              "4  0.06905      0.13810\n",
              "5  0.02985      0.05970\n",
              "6  0.08829      0.17658\n",
              "7  0.14455      0.28910\n",
              "8  0.21124      0.42248\n",
              "9  0.17004      0.34008"
            ]
          },
          "execution_count": 28,
          "metadata": {},
          "output_type": "execute_result"
        }
      ],
      "source": [
        "boston_df[\u0027double_crim\u0027] \u003d boston_df[[\u0027crim\u0027]].apply(lambda x: x * 2.0)\n",
        "boston_df[[\u0027crim\u0027, \u0027double_crim\u0027]].head(10)"
      ]
    }
  ],
  "metadata": {
    "kernelspec": {
      "display_name": "Python 3",
      "language": "python",
      "name": "python3"
    },
    "language_info": {
      "codemirror_mode": {
        "name": "ipython",
        "version": 3
      },
      "file_extension": ".py",
      "mimetype": "text/x-python",
      "name": "python",
      "nbconvert_exporter": "python",
      "pygments_lexer": "ipython3",
      "version": "3.6.6"
    }
  },
  "nbformat": 4,
  "nbformat_minor": 1
}
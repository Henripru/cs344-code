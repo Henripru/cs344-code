{
  "cells": [
    {
      "cell_type": "markdown",
      "metadata": {
        "pycharm": {}
      },
      "source": [
        "# An Introduction to Keras\n",
        "\n",
        "[Keras](https://keras.io/) is a commonly-used API to TensorFlow. Here, we use Keras to perform image classification on the [MNIST dataset](https://en.wikipedia.org/wiki/MNIST_database) (see also [Wikipedia\u0027s MNIST entry](https://en.wikipedia.org/wiki/MNIST_database)).\n",
        "\n",
        "This example is taken from [*Deep Learning with Python*](https://github.com/fchollet/deep-learning-with-python-notebooks), F. Chollet, 2018, Section 2.1. "
      ]
    },
    {
      "cell_type": "code",
      "execution_count": 1,
      "metadata": {
        "pycharm": {
          "is_executing": false
        }
      },
      "outputs": [
        {
          "name": "stderr",
          "text": [
            "Using TensorFlow backend.\n"
          ],
          "output_type": "stream"
        }
      ],
      "source": [
        "from keras.datasets import mnist\n",
        "(train_images, train_labels), (test_images, test_labels) \u003d mnist.load_data()"
      ]
    },
    {
      "cell_type": "markdown",
      "metadata": {
        "pycharm": {}
      },
      "source": [
        "The MNIST dataset contains 70K images split between a training set and a testing set. The inputs are 28x28-pixel images of hand-written digits; the outputs are digit labels."
      ]
    },
    {
      "cell_type": "code",
      "execution_count": 1,
      "metadata": {
        "pycharm": {
          "is_executing": false
        }
      },
      "outputs": [
        {
          "traceback": [
            "\u001b[0;36m  File \u001b[0;32m\"\u003cipython-input-1-74b0328c167e\u003e\"\u001b[0;36m, line \u001b[0;32m17\u001b[0m\n\u001b[0;31m    %matplotlib inline\u001b[0m\n\u001b[0m    ^\u001b[0m\n\u001b[0;31mSyntaxError\u001b[0m\u001b[0;31m:\u001b[0m invalid syntax\n"
          ],
          "ename": "SyntaxError",
          "evalue": "invalid syntax (\u003cipython-input-1-74b0328c167e\u003e, line 17)",
          "output_type": "error"
        }
      ],
      "source": [
        "print(\n",
        "    f\u0027training images \\\n",
        "        \\n\\tcount: {len(train_labels)} \\\n",
        "        \\n\\tshape: {train_images.shape} \\\n",
        "        \\n\\timage data type: {train_images.dtype} \\\n",
        "        \\n\\tlabel data type: {train_labels.dtype}\\n\u0027,\n",
        "    f\u0027testing images \\\n",
        "        \\n\\tcount: {len(test_labels)} \\\n",
        "        \\n\\tshape: {test_images.shape}\\n\u0027,\n",
        "    f\u0027example: \\\n",
        "        \\n\\tpixel value: {train_images[0,5,20]} \\\n",
        "        \\n\\tlabel value: {train_labels[0]}\\n\u0027,\n",
        "    \u0027example image:\u0027\n",
        ")\n",
        "\n",
        "import matplotlib.pyplot as plt\n",
        "%matplotlib inline\n",
        "\n",
        "digit_image \u003d train_images[0]\n",
        "plt.imshow(digit_image, cmap\u003dplt.cm.binary)"
      ]
    },
    {
      "cell_type": "markdown",
      "metadata": {
        "pycharm": {}
      },
      "source": [
        "Neural networks require numeric representations."
      ]
    },
    {
      "cell_type": "code",
      "execution_count": 29,
      "metadata": {
        "pycharm": {}
      },
      "outputs": [],
      "source": [
        "from keras.utils import to_categorical\n",
        "\n",
        "train_images \u003d train_images.reshape((60000, 28*28))\n",
        "train_images \u003d train_images.astype(\u0027float32\u0027) / 255\n",
        "\n",
        "test_images \u003d test_images.reshape((10000, 28*28))\n",
        "test_images \u003d test_images.astype(\u0027float32\u0027) /255\n",
        "\n",
        "train_labels \u003d to_categorical(train_labels)\n",
        "test_labels \u003d to_categorical(test_labels)"
      ]
    },
    {
      "cell_type": "markdown",
      "metadata": {
        "pycharm": {}
      },
      "source": [
        "Build and configure the neural model.\n",
        "\n"
      ]
    },
    {
      "cell_type": "code",
      "execution_count": 30,
      "metadata": {
        "pycharm": {}
      },
      "outputs": [],
      "source": [
        "from keras import models\n",
        "from keras import layers\n",
        "\n",
        "network \u003d models.Sequential()\n",
        "network.add(layers.Dense(512, activation\u003d\u0027relu\u0027, input_shape\u003d(28*28,)))\n",
        "network.add(layers.Dense(10, activation\u003d\u0027softmax\u0027))\n",
        "network.compile(optimizer\u003d\u0027rmsprop\u0027, loss\u003d\u0027categorical_crossentropy\u0027, metrics\u003d[\u0027accuracy\u0027])"
      ]
    },
    {
      "cell_type": "markdown",
      "metadata": {
        "pycharm": {}
      },
      "source": [
        "Train the model."
      ]
    },
    {
      "cell_type": "code",
      "execution_count": 31,
      "metadata": {
        "pycharm": {}
      },
      "outputs": [
        {
          "name": "stdout",
          "output_type": "stream",
          "text": [
            "Epoch 1/5\n",
            "60000/60000 [\u003d\u003d\u003d\u003d\u003d\u003d\u003d\u003d\u003d\u003d\u003d\u003d\u003d\u003d\u003d\u003d\u003d\u003d\u003d\u003d\u003d\u003d\u003d\u003d\u003d\u003d\u003d\u003d\u003d\u003d] - 3s 42us/step - loss: 0.2555 - acc: 0.9258\n",
            "Epoch 2/5\n",
            "60000/60000 [\u003d\u003d\u003d\u003d\u003d\u003d\u003d\u003d\u003d\u003d\u003d\u003d\u003d\u003d\u003d\u003d\u003d\u003d\u003d\u003d\u003d\u003d\u003d\u003d\u003d\u003d\u003d\u003d\u003d\u003d] - 2s 39us/step - loss: 0.1046 - acc: 0.9697\n",
            "Epoch 3/5\n",
            "60000/60000 [\u003d\u003d\u003d\u003d\u003d\u003d\u003d\u003d\u003d\u003d\u003d\u003d\u003d\u003d\u003d\u003d\u003d\u003d\u003d\u003d\u003d\u003d\u003d\u003d\u003d\u003d\u003d\u003d\u003d\u003d] - 2s 39us/step - loss: 0.0691 - acc: 0.9794\n",
            "Epoch 4/5\n",
            "60000/60000 [\u003d\u003d\u003d\u003d\u003d\u003d\u003d\u003d\u003d\u003d\u003d\u003d\u003d\u003d\u003d\u003d\u003d\u003d\u003d\u003d\u003d\u003d\u003d\u003d\u003d\u003d\u003d\u003d\u003d\u003d] - 2s 39us/step - loss: 0.0500 - acc: 0.9849\n",
            "Epoch 5/5\n",
            "60000/60000 [\u003d\u003d\u003d\u003d\u003d\u003d\u003d\u003d\u003d\u003d\u003d\u003d\u003d\u003d\u003d\u003d\u003d\u003d\u003d\u003d\u003d\u003d\u003d\u003d\u003d\u003d\u003d\u003d\u003d\u003d] - 2s 39us/step - loss: 0.0371 - acc: 0.9890\n"
          ]
        },
        {
          "data": {
            "text/plain": [
              "\u003ckeras.callbacks.History at 0x7f0fe3525fd0\u003e"
            ]
          },
          "execution_count": 31,
          "metadata": {},
          "output_type": "execute_result"
        }
      ],
      "source": [
        "network.fit(train_images, train_labels, epochs\u003d5, batch_size\u003d128)"
      ]
    },
    {
      "cell_type": "markdown",
      "metadata": {
        "pycharm": {}
      },
      "source": [
        "Test the model."
      ]
    },
    {
      "cell_type": "code",
      "execution_count": 32,
      "metadata": {
        "pycharm": {}
      },
      "outputs": [
        {
          "name": "stdout",
          "output_type": "stream",
          "text": [
            "10000/10000 [\u003d\u003d\u003d\u003d\u003d\u003d\u003d\u003d\u003d\u003d\u003d\u003d\u003d\u003d\u003d\u003d\u003d\u003d\u003d\u003d\u003d\u003d\u003d\u003d\u003d\u003d\u003d\u003d\u003d\u003d] - 0s 40us/step\n",
            "test_acc: 0.9767\n"
          ]
        }
      ],
      "source": [
        "test_loss, test_acc \u003d network.evaluate(test_images, test_labels)\n",
        "print(\u0027test_acc:\u0027, test_acc)"
      ]
    }
  ],
  "metadata": {
    "kernelspec": {
      "display_name": "Python 3",
      "language": "python",
      "name": "python3"
    },
    "language_info": {
      "codemirror_mode": {
        "name": "ipython",
        "version": 3
      },
      "file_extension": ".py",
      "mimetype": "text/x-python",
      "name": "python",
      "nbconvert_exporter": "python",
      "pygments_lexer": "ipython3",
      "version": "3.6.6"
    }
  },
  "nbformat": 4,
  "nbformat_minor": 1
}
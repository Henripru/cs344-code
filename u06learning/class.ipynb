{
 "cells": [
  {
   "cell_type": "markdown",
   "metadata": {
    "collapsed": true
   },
   "source": [
    "# Machine Learning\n",
    "\n",
    "*Machine learning* (ML) attempts to build systems that effectively\n",
    "        perform tasks based on models derived from data rather than\n",
    "        on explicit instructions.\n",
    "\n",
    "For each of the following problems, consider whether machine learning (ML) is the right technology. If it is, explain which particular ML *technology* you'd suggest using and how you'd *approach* the problem. If it isn't, explain why not.\n",
    "\n",
    "- Deciding whether to go to a restaurant (cf. Monday's class example)\n",
    "- Identifying customer groups for marketing purposes\n",
    "- Determining whether a Tweet is speaking positively or negatively about someone or something\n",
    "- Playing a game like Go or Starcraft\n",
    "- Flying a helicopter"
   ]
  }
 ],
 "metadata": {
  "kernelspec": {
   "display_name": "Python 3",
   "language": "python",
   "name": "python3"
  },
  "language_info": {
   "codemirror_mode": {
    "name": "ipython",
    "version": 3
   },
   "file_extension": ".py",
   "mimetype": "text/x-python",
   "name": "python",
   "nbconvert_exporter": "python",
   "pygments_lexer": "ipython3",
   "version": "3.6.6"
  }
 },
 "nbformat": 4,
 "nbformat_minor": 1
}

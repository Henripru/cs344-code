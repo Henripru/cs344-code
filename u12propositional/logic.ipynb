{
  "cells": [
    {
      "cell_type": "markdown",
      "source": "# Logic\nLogics make commitments.\n- *Ontological*: What exists in the world \n- *Epistemological*: What the agent believes about the world \n\nElements of Logical Systems\n- *Syntax*: Specifies the structure of well-formed *sentences*\n- *Semantics*: Specifies the truth of each sentence in each \n    *possible world*.\n- *Reasoning*: Specifies the rules of *entailment* between sentences\n    - Properties of reasoning systems:\n        - *Soundness* - The algorithm only entails true sentences.\n        - *Completeness* - The algorithm can derive all true sentences.\n",
      "metadata": {
        "pycharm": {
          "metadata": false
        }
      }
    }
  ],
  "metadata": {
    "language_info": {
      "codemirror_mode": {
        "name": "ipython",
        "version": 2
      },
      "file_extension": ".py",
      "mimetype": "text/x-python",
      "name": "python",
      "nbconvert_exporter": "python",
      "pygments_lexer": "ipython2",
      "version": "2.7.6"
    },
    "kernelspec": {
      "name": "python3",
      "language": "python",
      "display_name": "Python 3"
    },
    "stem_cell": {
      "cell_type": "raw",
      "source": "",
      "metadata": {
        "pycharm": {
          "metadata": false
        }
      }
    }
  },
  "nbformat": 4,
  "nbformat_minor": 0
}
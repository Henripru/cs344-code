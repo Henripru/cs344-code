{
 "cells": [
  {
   "cell_type": "markdown",
   "metadata": {
    "collapsed": true
   },
   "source": [
    "# Reasoning using Bayes Networks"
   ]
  },
  {
   "cell_type": "markdown",
   "metadata": {},
   "source": [
    "- Inference by Enumeration (cf. `enumeration_ask()`)\n",
    "    - $\\textbf{P}(X|\\textbf{e}) = \\alpha \\sum_y{\\textbf{P}(X, \\textbf{e}, \\textbf{y})}$\n",
    "    - Notes:\n",
    "        - This formula adds in the other evidence variables\n",
    "            ($y$) required by the network.\n",
    "        - It computes the probability distribution for $X$.\n",
    "        - See S. Thrun's discussion of this problem by following the AIMA link on the policies page and going through: Lesson 4, “Probability in AI”, Episodes 31–34, “General Bayes Net”\n",
    "- Example *causal* computation:\n",
    "    $$\\begin{aligned}\n",
    "    \\textbf{P}(J | b \\land \\neg e)\n",
    "        &= \\alpha \\sum_a{\\textbf{P}(J, a, b, \\neg e)} \\\\\\\\\\\\\n",
    "        &= \\alpha \\sum_a{\\textbf{P}(J|a) \\cdot P(a|b,\\neg e) \\cdot P(b) \\cdot P(\\neg e)} \\\\\\\\\\\\\n",
    "        &= \\alpha \\cdot P(b) \\cdot P(\\neg e) \\cdot \\sum_a{P(J|a) \\cdot P(a|b,-e)} \\\\\\\\\\\\\n",
    "        &= \\alpha \\cdot 0.001 \\cdot 0.998 \\cdot \\langle(0.9 \\cdot 0.94 + 0.05 \\cdot 0.06), (0.1 \\cdot 0.94 + 0.95 \\cdot 0.06)\\rangle \\\\\\\\\\\\\n",
    "        &= \\alpha \\langle0.000847, 0.000150698\\rangle \\\\\\\\\\\\\n",
    "        &= \\langle0.85, 0.15\\rangle\n",
    "    \\end{aligned}$$\n"
   ]
  },
  {
   "cell_type": "markdown",
   "metadata": {},
   "source": [
    "We'll do a *diagnostic* computation on Wednesday."
   ]
  }
 ],
 "metadata": {
  "kernelspec": {
   "display_name": "Python 3",
   "language": "python",
   "name": "python3"
  },
  "language_info": {
   "codemirror_mode": {
    "name": "ipython",
    "version": 3
   },
   "file_extension": ".py",
   "mimetype": "text/x-python",
   "name": "python",
   "nbconvert_exporter": "python",
   "pygments_lexer": "ipython3",
   "version": "3.6.6"
  }
 },
 "nbformat": 4,
 "nbformat_minor": 1
}
